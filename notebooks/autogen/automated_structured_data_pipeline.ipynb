{
  "nbformat": 4,
  "nbformat_minor": 0,
  "metadata": {
    "colab": {
      "provenance": []
    },
    "kernelspec": {
      "name": "python3",
      "display_name": "Python 3"
    },
    "language_info": {
      "name": "python"
    }
  },
  "cells": [
    {
      "cell_type": "code",
      "execution_count": null,
      "metadata": {
        "colab": {
          "base_uri": "https://localhost:8080/"
        },
        "id": "0EwSHQHFQzsn",
        "outputId": "1c74ceac-91ce-4478-d315-8bfb05b09c29"
      },
      "outputs": [
        {
          "output_type": "stream",
          "name": "stdout",
          "text": [
            "Requirement already satisfied: anthropic in /usr/local/lib/python3.10/dist-packages (0.34.1)\n",
            "Requirement already satisfied: pandas in /usr/local/lib/python3.10/dist-packages (2.1.4)\n",
            "Requirement already satisfied: jupyter in /usr/local/lib/python3.10/dist-packages (1.0.0)\n",
            "Requirement already satisfied: openai in /usr/local/lib/python3.10/dist-packages (1.42.0)\n",
            "Requirement already satisfied: anyio<5,>=3.5.0 in /usr/local/lib/python3.10/dist-packages (from anthropic) (3.7.1)\n",
            "Requirement already satisfied: distro<2,>=1.7.0 in /usr/lib/python3/dist-packages (from anthropic) (1.7.0)\n",
            "Requirement already satisfied: httpx<1,>=0.23.0 in /usr/local/lib/python3.10/dist-packages (from anthropic) (0.27.0)\n",
            "Requirement already satisfied: jiter<1,>=0.4.0 in /usr/local/lib/python3.10/dist-packages (from anthropic) (0.5.0)\n",
            "Requirement already satisfied: pydantic<3,>=1.9.0 in /usr/local/lib/python3.10/dist-packages (from anthropic) (2.8.2)\n",
            "Requirement already satisfied: sniffio in /usr/local/lib/python3.10/dist-packages (from anthropic) (1.3.1)\n",
            "Requirement already satisfied: tokenizers>=0.13.0 in /usr/local/lib/python3.10/dist-packages (from anthropic) (0.19.1)\n",
            "Requirement already satisfied: typing-extensions<5,>=4.7 in /usr/local/lib/python3.10/dist-packages (from anthropic) (4.12.2)\n",
            "Requirement already satisfied: numpy<2,>=1.22.4 in /usr/local/lib/python3.10/dist-packages (from pandas) (1.26.4)\n",
            "Requirement already satisfied: python-dateutil>=2.8.2 in /usr/local/lib/python3.10/dist-packages (from pandas) (2.8.2)\n",
            "Requirement already satisfied: pytz>=2020.1 in /usr/local/lib/python3.10/dist-packages (from pandas) (2024.1)\n",
            "Requirement already satisfied: tzdata>=2022.1 in /usr/local/lib/python3.10/dist-packages (from pandas) (2024.1)\n",
            "Requirement already satisfied: notebook in /usr/local/lib/python3.10/dist-packages (from jupyter) (6.5.5)\n",
            "Requirement already satisfied: qtconsole in /usr/local/lib/python3.10/dist-packages (from jupyter) (5.5.2)\n",
            "Requirement already satisfied: jupyter-console in /usr/local/lib/python3.10/dist-packages (from jupyter) (6.1.0)\n",
            "Requirement already satisfied: nbconvert in /usr/local/lib/python3.10/dist-packages (from jupyter) (6.5.4)\n",
            "Requirement already satisfied: ipykernel in /usr/local/lib/python3.10/dist-packages (from jupyter) (5.5.6)\n",
            "Requirement already satisfied: ipywidgets in /usr/local/lib/python3.10/dist-packages (from jupyter) (7.7.1)\n",
            "Requirement already satisfied: tqdm>4 in /usr/local/lib/python3.10/dist-packages (from openai) (4.66.5)\n",
            "Requirement already satisfied: idna>=2.8 in /usr/local/lib/python3.10/dist-packages (from anyio<5,>=3.5.0->anthropic) (3.7)\n",
            "Requirement already satisfied: exceptiongroup in /usr/local/lib/python3.10/dist-packages (from anyio<5,>=3.5.0->anthropic) (1.2.2)\n",
            "Requirement already satisfied: certifi in /usr/local/lib/python3.10/dist-packages (from httpx<1,>=0.23.0->anthropic) (2024.7.4)\n",
            "Requirement already satisfied: httpcore==1.* in /usr/local/lib/python3.10/dist-packages (from httpx<1,>=0.23.0->anthropic) (1.0.5)\n",
            "Requirement already satisfied: h11<0.15,>=0.13 in /usr/local/lib/python3.10/dist-packages (from httpcore==1.*->httpx<1,>=0.23.0->anthropic) (0.14.0)\n",
            "Requirement already satisfied: annotated-types>=0.4.0 in /usr/local/lib/python3.10/dist-packages (from pydantic<3,>=1.9.0->anthropic) (0.7.0)\n",
            "Requirement already satisfied: pydantic-core==2.20.1 in /usr/local/lib/python3.10/dist-packages (from pydantic<3,>=1.9.0->anthropic) (2.20.1)\n",
            "Requirement already satisfied: six>=1.5 in /usr/local/lib/python3.10/dist-packages (from python-dateutil>=2.8.2->pandas) (1.16.0)\n",
            "Requirement already satisfied: huggingface-hub<1.0,>=0.16.4 in /usr/local/lib/python3.10/dist-packages (from tokenizers>=0.13.0->anthropic) (0.23.5)\n",
            "Requirement already satisfied: ipython-genutils in /usr/local/lib/python3.10/dist-packages (from ipykernel->jupyter) (0.2.0)\n",
            "Requirement already satisfied: ipython>=5.0.0 in /usr/local/lib/python3.10/dist-packages (from ipykernel->jupyter) (7.34.0)\n",
            "Requirement already satisfied: traitlets>=4.1.0 in /usr/local/lib/python3.10/dist-packages (from ipykernel->jupyter) (5.7.1)\n",
            "Requirement already satisfied: jupyter-client in /usr/local/lib/python3.10/dist-packages (from ipykernel->jupyter) (6.1.12)\n",
            "Requirement already satisfied: tornado>=4.2 in /usr/local/lib/python3.10/dist-packages (from ipykernel->jupyter) (6.3.3)\n",
            "Requirement already satisfied: widgetsnbextension~=3.6.0 in /usr/local/lib/python3.10/dist-packages (from ipywidgets->jupyter) (3.6.8)\n",
            "Requirement already satisfied: jupyterlab-widgets>=1.0.0 in /usr/local/lib/python3.10/dist-packages (from ipywidgets->jupyter) (3.0.11)\n",
            "Requirement already satisfied: prompt-toolkit!=3.0.0,!=3.0.1,<3.1.0,>=2.0.0 in /usr/local/lib/python3.10/dist-packages (from jupyter-console->jupyter) (3.0.47)\n",
            "Requirement already satisfied: pygments in /usr/local/lib/python3.10/dist-packages (from jupyter-console->jupyter) (2.16.1)\n",
            "Requirement already satisfied: lxml in /usr/local/lib/python3.10/dist-packages (from nbconvert->jupyter) (4.9.4)\n",
            "Requirement already satisfied: beautifulsoup4 in /usr/local/lib/python3.10/dist-packages (from nbconvert->jupyter) (4.12.3)\n",
            "Requirement already satisfied: bleach in /usr/local/lib/python3.10/dist-packages (from nbconvert->jupyter) (6.1.0)\n",
            "Requirement already satisfied: defusedxml in /usr/local/lib/python3.10/dist-packages (from nbconvert->jupyter) (0.7.1)\n",
            "Requirement already satisfied: entrypoints>=0.2.2 in /usr/local/lib/python3.10/dist-packages (from nbconvert->jupyter) (0.4)\n",
            "Requirement already satisfied: jinja2>=3.0 in /usr/local/lib/python3.10/dist-packages (from nbconvert->jupyter) (3.1.4)\n",
            "Requirement already satisfied: jupyter-core>=4.7 in /usr/local/lib/python3.10/dist-packages (from nbconvert->jupyter) (5.7.2)\n",
            "Requirement already satisfied: jupyterlab-pygments in /usr/local/lib/python3.10/dist-packages (from nbconvert->jupyter) (0.3.0)\n",
            "Requirement already satisfied: MarkupSafe>=2.0 in /usr/local/lib/python3.10/dist-packages (from nbconvert->jupyter) (2.1.5)\n",
            "Requirement already satisfied: mistune<2,>=0.8.1 in /usr/local/lib/python3.10/dist-packages (from nbconvert->jupyter) (0.8.4)\n",
            "Requirement already satisfied: nbclient>=0.5.0 in /usr/local/lib/python3.10/dist-packages (from nbconvert->jupyter) (0.10.0)\n",
            "Requirement already satisfied: nbformat>=5.1 in /usr/local/lib/python3.10/dist-packages (from nbconvert->jupyter) (5.10.4)\n",
            "Requirement already satisfied: packaging in /usr/local/lib/python3.10/dist-packages (from nbconvert->jupyter) (24.1)\n",
            "Requirement already satisfied: pandocfilters>=1.4.1 in /usr/local/lib/python3.10/dist-packages (from nbconvert->jupyter) (1.5.1)\n",
            "Requirement already satisfied: tinycss2 in /usr/local/lib/python3.10/dist-packages (from nbconvert->jupyter) (1.3.0)\n",
            "Requirement already satisfied: pyzmq<25,>=17 in /usr/local/lib/python3.10/dist-packages (from notebook->jupyter) (24.0.1)\n",
            "Requirement already satisfied: argon2-cffi in /usr/local/lib/python3.10/dist-packages (from notebook->jupyter) (23.1.0)\n",
            "Requirement already satisfied: nest-asyncio>=1.5 in /usr/local/lib/python3.10/dist-packages (from notebook->jupyter) (1.6.0)\n",
            "Requirement already satisfied: Send2Trash>=1.8.0 in /usr/local/lib/python3.10/dist-packages (from notebook->jupyter) (1.8.3)\n",
            "Requirement already satisfied: terminado>=0.8.3 in /usr/local/lib/python3.10/dist-packages (from notebook->jupyter) (0.18.1)\n",
            "Requirement already satisfied: prometheus-client in /usr/local/lib/python3.10/dist-packages (from notebook->jupyter) (0.20.0)\n",
            "Requirement already satisfied: nbclassic>=0.4.7 in /usr/local/lib/python3.10/dist-packages (from notebook->jupyter) (1.1.0)\n",
            "Requirement already satisfied: qtpy>=2.4.0 in /usr/local/lib/python3.10/dist-packages (from qtconsole->jupyter) (2.4.1)\n",
            "Requirement already satisfied: filelock in /usr/local/lib/python3.10/dist-packages (from huggingface-hub<1.0,>=0.16.4->tokenizers>=0.13.0->anthropic) (3.15.4)\n",
            "Requirement already satisfied: fsspec>=2023.5.0 in /usr/local/lib/python3.10/dist-packages (from huggingface-hub<1.0,>=0.16.4->tokenizers>=0.13.0->anthropic) (2024.6.1)\n",
            "Requirement already satisfied: pyyaml>=5.1 in /usr/local/lib/python3.10/dist-packages (from huggingface-hub<1.0,>=0.16.4->tokenizers>=0.13.0->anthropic) (6.0.2)\n",
            "Requirement already satisfied: requests in /usr/local/lib/python3.10/dist-packages (from huggingface-hub<1.0,>=0.16.4->tokenizers>=0.13.0->anthropic) (2.32.3)\n",
            "Requirement already satisfied: setuptools>=18.5 in /usr/local/lib/python3.10/dist-packages (from ipython>=5.0.0->ipykernel->jupyter) (71.0.4)\n",
            "Requirement already satisfied: jedi>=0.16 in /usr/local/lib/python3.10/dist-packages (from ipython>=5.0.0->ipykernel->jupyter) (0.19.1)\n",
            "Requirement already satisfied: decorator in /usr/local/lib/python3.10/dist-packages (from ipython>=5.0.0->ipykernel->jupyter) (4.4.2)\n",
            "Requirement already satisfied: pickleshare in /usr/local/lib/python3.10/dist-packages (from ipython>=5.0.0->ipykernel->jupyter) (0.7.5)\n",
            "Requirement already satisfied: backcall in /usr/local/lib/python3.10/dist-packages (from ipython>=5.0.0->ipykernel->jupyter) (0.2.0)\n",
            "Requirement already satisfied: matplotlib-inline in /usr/local/lib/python3.10/dist-packages (from ipython>=5.0.0->ipykernel->jupyter) (0.1.7)\n",
            "Requirement already satisfied: pexpect>4.3 in /usr/local/lib/python3.10/dist-packages (from ipython>=5.0.0->ipykernel->jupyter) (4.9.0)\n",
            "Requirement already satisfied: platformdirs>=2.5 in /usr/local/lib/python3.10/dist-packages (from jupyter-core>=4.7->nbconvert->jupyter) (4.2.2)\n",
            "Requirement already satisfied: notebook-shim>=0.2.3 in /usr/local/lib/python3.10/dist-packages (from nbclassic>=0.4.7->notebook->jupyter) (0.2.4)\n",
            "Requirement already satisfied: fastjsonschema>=2.15 in /usr/local/lib/python3.10/dist-packages (from nbformat>=5.1->nbconvert->jupyter) (2.20.0)\n",
            "Requirement already satisfied: jsonschema>=2.6 in /usr/local/lib/python3.10/dist-packages (from nbformat>=5.1->nbconvert->jupyter) (4.23.0)\n",
            "Requirement already satisfied: wcwidth in /usr/local/lib/python3.10/dist-packages (from prompt-toolkit!=3.0.0,!=3.0.1,<3.1.0,>=2.0.0->jupyter-console->jupyter) (0.2.13)\n",
            "Requirement already satisfied: ptyprocess in /usr/local/lib/python3.10/dist-packages (from terminado>=0.8.3->notebook->jupyter) (0.7.0)\n",
            "Requirement already satisfied: argon2-cffi-bindings in /usr/local/lib/python3.10/dist-packages (from argon2-cffi->notebook->jupyter) (21.2.0)\n",
            "Requirement already satisfied: soupsieve>1.2 in /usr/local/lib/python3.10/dist-packages (from beautifulsoup4->nbconvert->jupyter) (2.6)\n",
            "Requirement already satisfied: webencodings in /usr/local/lib/python3.10/dist-packages (from bleach->nbconvert->jupyter) (0.5.1)\n",
            "Requirement already satisfied: parso<0.9.0,>=0.8.3 in /usr/local/lib/python3.10/dist-packages (from jedi>=0.16->ipython>=5.0.0->ipykernel->jupyter) (0.8.4)\n",
            "Requirement already satisfied: attrs>=22.2.0 in /usr/local/lib/python3.10/dist-packages (from jsonschema>=2.6->nbformat>=5.1->nbconvert->jupyter) (24.2.0)\n",
            "Requirement already satisfied: jsonschema-specifications>=2023.03.6 in /usr/local/lib/python3.10/dist-packages (from jsonschema>=2.6->nbformat>=5.1->nbconvert->jupyter) (2023.12.1)\n",
            "Requirement already satisfied: referencing>=0.28.4 in /usr/local/lib/python3.10/dist-packages (from jsonschema>=2.6->nbformat>=5.1->nbconvert->jupyter) (0.35.1)\n",
            "Requirement already satisfied: rpds-py>=0.7.1 in /usr/local/lib/python3.10/dist-packages (from jsonschema>=2.6->nbformat>=5.1->nbconvert->jupyter) (0.20.0)\n",
            "Requirement already satisfied: jupyter-server<3,>=1.8 in /usr/local/lib/python3.10/dist-packages (from notebook-shim>=0.2.3->nbclassic>=0.4.7->notebook->jupyter) (1.24.0)\n",
            "Requirement already satisfied: cffi>=1.0.1 in /usr/local/lib/python3.10/dist-packages (from argon2-cffi-bindings->argon2-cffi->notebook->jupyter) (1.17.0)\n",
            "Requirement already satisfied: charset-normalizer<4,>=2 in /usr/local/lib/python3.10/dist-packages (from requests->huggingface-hub<1.0,>=0.16.4->tokenizers>=0.13.0->anthropic) (3.3.2)\n",
            "Requirement already satisfied: urllib3<3,>=1.21.1 in /usr/local/lib/python3.10/dist-packages (from requests->huggingface-hub<1.0,>=0.16.4->tokenizers>=0.13.0->anthropic) (2.0.7)\n",
            "Requirement already satisfied: pycparser in /usr/local/lib/python3.10/dist-packages (from cffi>=1.0.1->argon2-cffi-bindings->argon2-cffi->notebook->jupyter) (2.22)\n",
            "Requirement already satisfied: websocket-client in /usr/local/lib/python3.10/dist-packages (from jupyter-server<3,>=1.8->notebook-shim>=0.2.3->nbclassic>=0.4.7->notebook->jupyter) (1.8.0)\n"
          ]
        }
      ],
      "source": [
        "!pip install anthropic pandas jupyter openai"
      ]
    },
    {
      "cell_type": "code",
      "source": [
        "import random\n",
        "import openai\n",
        "import pandas as pd\n",
        "import os\n",
        "import glob\n",
        "import time\n",
        "from google.colab import userdata, drive"
      ],
      "metadata": {
        "id": "YxsMGk5KRHWd"
      },
      "execution_count": null,
      "outputs": []
    },
    {
      "cell_type": "code",
      "source": [
        "# Mount Google Drive\n",
        "drive.mount('/content/drive/')"
      ],
      "metadata": {
        "colab": {
          "base_uri": "https://localhost:8080/"
        },
        "id": "oKmkB7tbRMbG",
        "outputId": "4997c14c-31c6-4511-f7b7-5aa0fc8c1db6"
      },
      "execution_count": null,
      "outputs": [
        {
          "output_type": "stream",
          "name": "stdout",
          "text": [
            "Drive already mounted at /content/drive/; to attempt to forcibly remount, call drive.mount(\"/content/drive/\", force_remount=True).\n"
          ]
        }
      ]
    },
    {
      "cell_type": "code",
      "source": [
        "# Set up OpenAI API key\n",
        "openai_api_key = userdata.get('OPENAI_API_KEY')\n",
        "if openai_api_key is None or openai_api_key.strip() == \"\":\n",
        "    raise ValueError(\"OpenAI API key is not set. Please set it in Colab secrets.\")\n",
        "openai.api_key = openai_api_key\n",
        "print(\"OpenAI API key set successfully.\")"
      ],
      "metadata": {
        "colab": {
          "base_uri": "https://localhost:8080/"
        },
        "id": "fFPAv1QeRXzg",
        "outputId": "2c737381-a0e7-4085-e17d-f791ffab4bac"
      },
      "execution_count": null,
      "outputs": [
        {
          "output_type": "stream",
          "name": "stdout",
          "text": [
            "OpenAI API key set successfully.\n"
          ]
        }
      ]
    },
    {
      "cell_type": "code",
      "source": [
        "# def generate_description_and_prompt(test_case_name, test_case_type, file_path):\n",
        "#     parts = file_path.split('/')\n",
        "#     application_name = parts[-3]\n",
        "#     directory_name = parts[-2]\n",
        "\n",
        "#     # Dynamic action and type based on test case type\n",
        "#     actions = ['Generate', 'Create', 'Build', 'Validate']\n",
        "#     action = random.choice(actions)\n",
        "#     type_phrase = 'keyword-driven' if test_case_type == 'keyword-driven' else 'data-driven'\n",
        "\n",
        "#     # Generate a dynamic prompt\n",
        "#     prompt = f\"{action} a robot framework test case for {type_phrase} testing of {directory_name.replace('_', ' ')} functionality in the {application_name} platform, specifically {test_case_name}.\"\n",
        "\n",
        "#     description_template = f\"Provide a high-level description for the test case '{test_case_name}' including its purpose and key objectives.\"\n",
        "\n",
        "#     try:\n",
        "#         response = openai.ChatCompletion.create(\n",
        "#             model=\"gpt-4o\",\n",
        "#             messages=[{\"role\": \"user\", \"content\": description_template}],\n",
        "#             max_tokens=150\n",
        "#         )\n",
        "#         description = response.choices[0].message['content'].strip()\n",
        "#     except Exception as e:\n",
        "#         print(f\"Error generating description for {test_case_name}: {str(e)}\")\n",
        "#         description = f\"Description for {test_case_name} could not be generated due to an error.\"\n",
        "\n",
        "#     return prompt, description\n",
        "\n",
        "\n",
        "import time\n",
        "\n",
        "def generate_description_and_prompt(test_case_name, test_case_type, file_path):\n",
        "    parts = file_path.split('/')\n",
        "    application_name = parts[-3]\n",
        "    directory_name = parts[-2]\n",
        "\n",
        "    # Dynamic action and type based on test case type\n",
        "    actions = ['Generate', 'Create', 'Build', 'Validate']\n",
        "    action = random.choice(actions)\n",
        "    type_phrase = 'keyword-driven' if test_case_type == 'keyword-driven' else 'data-driven'\n",
        "\n",
        "    # Generate a dynamic prompt\n",
        "    prompt = f\"{action} a robot framework test case for testing {directory_name.replace('_', ' ')} functionality in the {application_name} platform, specifically {test_case_name}.\"\n",
        "\n",
        "    description_template = f\"Provide a very short description of the test case '{test_case_name}' do\"\n",
        "\n",
        "    # Generate a more general documentation summary\n",
        "    documentation_template = f\"Provide a two to three short sentences general summary of the test case '{test_case_name}', including the main functionality it covers and its importance.\"\n",
        "\n",
        "    # Retry logic for API call\n",
        "    max_retries = 3\n",
        "    for attempt in range(max_retries):\n",
        "        try:\n",
        "            response = openai.chat.completions.create(\n",
        "                model=\"gpt-4\",\n",
        "                messages=[{\"role\": \"user\", \"content\": description_template}],\n",
        "                max_tokens=150\n",
        "            )\n",
        "            description = response.choices[0].message.content.strip()\n",
        "            # Generate the documentation summary\n",
        "            documentation_response = openai.chat.completions.create(\n",
        "                model=\"gpt-4\",\n",
        "                messages=[{\"role\": \"user\", \"content\": documentation_template}],\n",
        "                max_tokens=150\n",
        "            )\n",
        "            documentation = documentation_response.choices[0].message.content.strip()\n",
        "            return prompt, description, documentation\n",
        "        except openai.error.APIError as e:\n",
        "            print(f\"API Error generating description or documentation for {test_case_name}: {str(e)}\")\n",
        "            if attempt < max_retries - 1:\n",
        "                print(f\"Retrying... ({attempt + 1}/{max_retries})\")\n",
        "                time.sleep(2)  # Delay before retrying\n",
        "            else:\n",
        "                description = f\"Description for {test_case_name} could not be generated due to an error.\"\n",
        "                documentation = f\"Documentation for {test_case_name} could not be generated due to an error.\"\n",
        "                return prompt, description, documentation\n",
        "        except openai.error.RateLimitError:\n",
        "            print(f\"Rate Limit exceeded, waiting before retrying... ({attempt + 1}/{max_retries})\")\n",
        "            time.sleep(30)  # Delay to handle rate limits\n",
        "        except Exception as e:\n",
        "            print(f\"Unexpected Error generating description or documentation for {test_case_name}: {str(e)}\")\n",
        "            if attempt < max_retries - 1:\n",
        "                print(f\"Retrying... ({attempt + 1}/{max_retries})\")\n",
        "                time.sleep(2)  # Delay before retrying\n",
        "            else:\n",
        "                description = f\"Description for {test_case_name} could not be generated due to an error.\"\n",
        "                documentation = f\"Documentation for {test_case_name} could not be generated due to an error.\"\n",
        "                return prompt, description, documentation\n"
      ],
      "metadata": {
        "id": "9qeMdVpgRiHs"
      },
      "execution_count": null,
      "outputs": []
    },
    {
      "cell_type": "code",
      "source": [
        "def process_data_driven_test_case(file_path):\n",
        "    test_case_name = os.path.splitext(os.path.basename(file_path))[0]\n",
        "    test_case_data = pd.read_csv(file_path)\n",
        "\n",
        "    prompt, description, documentation = generate_description_and_prompt(test_case_name, 'data-driven', file_path)\n",
        "\n",
        "    # Define application-specific keywords that trigger the \"Test Setup\" section\n",
        "    application_keywords = ['PayNOW', 'PremiumPay', 'BillPro', 'BillNOW', 'ClientCentral']\n",
        "\n",
        "    # Check if the prompt contains any of the application-specific keywords\n",
        "    setup_needed = any(keyword in prompt for keyword in application_keywords)\n",
        "\n",
        "    # Start constructing the response\n",
        "    response = f\"\"\"*** Settings ***\n",
        "Description       {description}\n",
        "\"\"\"\n",
        "\n",
        "    # Include Test Setup if necessary\n",
        "    if setup_needed:\n",
        "        application_name = next((keyword for keyword in application_keywords if keyword in prompt), '')\n",
        "        response += f\"Test Setup       Open {application_name} Application    ${{URL}}\\n\"\n",
        "\n",
        "    response += f\"\"\"Test Teardown    Close All Browsers\n",
        "Test Template    Validate {test_case_name}\n",
        "Resource         ../../../../Config/super.resource\n",
        "Library          DataDriver    ${{TESTDATA_FOLDER}}    sheet_name={test_case_name}\n",
        "\n",
        "*** Test Cases ***\n",
        "    ${{test_case_name}}\n",
        "\n",
        "*** Keywords ***\n",
        "Validate {test_case_name}\n",
        "    [Arguments]    ${{test_case_name}}\n",
        "    [Description]       {description}\n",
        "    ${{test_data}}    Read TestData From Excel    ${{TESTDATA_FOLDER}}    ${{test_case_name}}   {test_case_name}\n",
        "\"\"\"\n",
        "\n",
        "    # Append keywords and arguments\n",
        "    for _, row in test_case_data.iterrows():\n",
        "        keyword = row['KeywordName']\n",
        "        args = [arg for arg in [row.get('Argument1'), row.get('Argument2')] if pd.notna(arg)]\n",
        "        args_str = '    '.join([f\"${{test_data}}[{arg}]\" for arg in args])\n",
        "        response += f\"    {keyword}    {args_str}\\n\"\n",
        "\n",
        "    return {\n",
        "        \"prompt\": prompt,\n",
        "        \"testcase_type\": \"data-driven\",\n",
        "        \"testcase_name\": test_case_name,\n",
        "        \"response\": response,\n",
        "        \"documentation\": documentation\n",
        "    }\n"
      ],
      "metadata": {
        "id": "FhZX8XsBU8YM"
      },
      "execution_count": null,
      "outputs": []
    },
    {
      "cell_type": "code",
      "source": [
        "def process_keyword_driven_test_case(file_path):\n",
        "    test_case_name = os.path.splitext(os.path.basename(file_path))[0]\n",
        "    test_case_data = pd.read_csv(file_path)\n",
        "\n",
        "    prompt, description, documentation = generate_description_and_prompt(test_case_name, 'keyword-driven', file_path)\n",
        "\n",
        "    # Collect all unique arguments\n",
        "    all_args = {}\n",
        "    argument_columns = [col for col in ['Argument1', 'Argument2', 'Argument3', 'Arguments'] if col in test_case_data.columns]\n",
        "\n",
        "    for col in argument_columns:\n",
        "        for arg in test_case_data[col].dropna().unique():\n",
        "            if arg and arg not in all_args:\n",
        "                all_args[arg.upper()] = f\"{arg.lower()}_value\"\n",
        "\n",
        "    # Create the response structure\n",
        "    response = f\"\"\"*** Settings ***\n",
        "Description          {description}\n",
        "Library                SeleniumLibrary\n",
        "\n",
        "*** Variables ***\n",
        "\"\"\"\n",
        "\n",
        "    # Add dynamic variables based on unique arguments\n",
        "    for arg, value in all_args.items():\n",
        "        response += f\"${{{arg}}}            {value}\\n\"\n",
        "\n",
        "    response += f\"\"\"\\n*** Test Cases ***\n",
        "Validate {test_case_name.capitalize()}\n",
        "    [Description]    {description}\n",
        "\"\"\"\n",
        "\n",
        "    # Generate test steps for the test case\n",
        "    for _, row in test_case_data.iterrows():\n",
        "        keyword = row['KeywordName']\n",
        "        args = row['Arguments'].split(',') if pd.notna(row['Arguments']) else []\n",
        "        args_str = '    '.join([f\"${{{arg.upper()}}}\" for arg in args])\n",
        "        response += f\"    {keyword}    {args_str}\\n\"\n",
        "\n",
        "    return {\n",
        "        \"prompt\": prompt,\n",
        "        \"testcase_type\": \"keyword-driven\",\n",
        "        \"testcase_name\": test_case_name,\n",
        "        \"response\": response,\n",
        "        \"documentation\": documentation\n",
        "    }\n"
      ],
      "metadata": {
        "id": "ZP8lzlVrU-VQ"
      },
      "execution_count": null,
      "outputs": []
    },
    {
      "cell_type": "code",
      "source": [
        "def find_csv_files(root_directories):\n",
        "    csv_files = []\n",
        "    for root_directory in root_directories:\n",
        "        for subdir, dirs, files in os.walk(root_directory):\n",
        "            for file in glob.glob(os.path.join(subdir, '*.csv')):\n",
        "                csv_files.append(file)\n",
        "    return csv_files\n",
        "\n",
        "def process_files(file_paths, process_function):\n",
        "    results = []\n",
        "    start_time = time.time()\n",
        "    for file_path in file_paths:\n",
        "        try:\n",
        "            result = process_function(file_path)\n",
        "            results.append(result)\n",
        "        except Exception as e:\n",
        "            print(f\"Failed to process {file_path}: {str(e)}\")\n",
        "    end_time = time.time()\n",
        "    print(f\"Processed {len(file_paths)} files in {end_time - start_time:.2f} seconds\")\n",
        "    return results"
      ],
      "metadata": {
        "id": "aVMYZqsARyCO"
      },
      "execution_count": null,
      "outputs": []
    },
    {
      "cell_type": "code",
      "source": [
        "# # Root directories for keyword-driven and data-driven test cases\n",
        "# roots_keyword_driven = [\n",
        "#     '/content/drive/MyDrive/WORKS/SOFTWARE-DRIVEN-TEST AUTOMATION/dataset & info/SDT UAR Test Cases/ClientCentral_Keywords Ram/ClientCentral_Keywords/API',\n",
        "#     # ... (other directories)\n",
        "# ]\n",
        "\n",
        "# roots_data_driven = [\n",
        "#     '/content/drive/MyDrive/WORKS/SOFTWARE-DRIVEN-TEST AUTOMATION/dataset & info/SDT UAR Test Cases/PayNOW Test Cases Ramashanker/PayNOW Test Cases/Autopay Testcases',\n",
        "#     # ... (other directories)\n",
        "# ]"
      ],
      "metadata": {
        "id": "dSFgNITvW-3x"
      },
      "execution_count": null,
      "outputs": []
    },
    {
      "cell_type": "code",
      "source": [
        "# Root directories for keyword-driven and data-driven test cases\n",
        "roots_keyword_driven = [\n",
        "    '/content/drive/MyDrive/WORKS/SOFTWARE-DRIVEN-TEST AUTOMATION/dataset & info/SDT UAR Test Cases/ClientCentral_Keywords Ram/ClientCentral_Keywords/API',\n",
        "    '/content/drive/MyDrive/WORKS/SOFTWARE-DRIVEN-TEST AUTOMATION/dataset & info/SDT UAR Test Cases/ClientCentral_Keywords Ram/ClientCentral_Keywords/Web/CommonKeywordsForAllMerchants',\n",
        "    '/content/drive/MyDrive/WORKS/SOFTWARE-DRIVEN-TEST AUTOMATION/dataset & info/SDT UAR Test Cases/ClientCentral_Keywords Ram/ClientCentral_Keywords/Web/Omnicorp/Customers',\n",
        "    '/content/drive/MyDrive/WORKS/SOFTWARE-DRIVEN-TEST AUTOMATION/dataset & info/SDT UAR Test Cases/ClientCentral_Keywords Ram/ClientCentral_Keywords/Web/SterlingCooper/Customers',\n",
        "    '/content/drive/MyDrive/WORKS/SOFTWARE-DRIVEN-TEST AUTOMATION/dataset & info/SDT UAR Test Cases/ClientCentral_Keywords Ram/ClientCentral_Keywords/Web/SterlingCooper/Dashboard',\n",
        "    '/content/drive/MyDrive/WORKS/SOFTWARE-DRIVEN-TEST AUTOMATION/dataset & info/SDT UAR Test Cases/ClientCentral_Keywords Ram/ClientCentral_Keywords/Web/SterlingCooper/Invoices',\n",
        "    '/content/drive/MyDrive/WORKS/SOFTWARE-DRIVEN-TEST AUTOMATION/dataset & info/SDT UAR Test Cases/ClientCentral_Keywords Ram/ClientCentral_Keywords/Web/SterlingCooper/Settings',\n",
        "    '/content/drive/MyDrive/WORKS/SOFTWARE-DRIVEN-TEST AUTOMATION/dataset & info/SDT UAR Test Cases/ClientCentral_Keywords Ram/ClientCentral_Keywords/Web/SterlingCooper/Transactions',\n",
        "    '/content/drive/MyDrive/WORKS/SOFTWARE-DRIVEN-TEST AUTOMATION/dataset & info/SDT UAR Test Cases/ClientCentral_Keywords Ram/ClientCentral_Keywords/Web/SterlingCooper/Virtual_Terminal',\n",
        "    '/content/drive/MyDrive/WORKS/SOFTWARE-DRIVEN-TEST AUTOMATION/dataset & info/SDT UAR Test Cases/PayNOW_Keywords Ramashanker/PayNOW_Keywords/API',\n",
        "    '/content/drive/MyDrive/WORKS/SOFTWARE-DRIVEN-TEST AUTOMATION/dataset & info/SDT UAR Test Cases/PayNOW_Keywords Ramashanker/PayNOW_Keywords/Web',\n",
        "    '/content/drive/MyDrive/WORKS/SOFTWARE-DRIVEN-TEST AUTOMATION/dataset & info/SDT UAR Test Cases/PayNOW_Keywords Ramashanker/PayNOW_Keywords/Web/PayNOW',\n",
        "]\n",
        "\n",
        "roots_data_driven = [\n",
        "    '/content/drive/MyDrive/WORKS/SOFTWARE-DRIVEN-TEST AUTOMATION/dataset & info/SDT UAR Test Cases/PayNOW Test Cases Ramashanker/PayNOW Test Cases/Autopay Testcases',\n",
        "    '/content/drive/MyDrive/WORKS/SOFTWARE-DRIVEN-TEST AUTOMATION/dataset & info/SDT UAR Test Cases/PayNOW Test Cases Ramashanker/PayNOW Test Cases/Omnicorp Testcases',\n",
        "    '/content/drive/MyDrive/WORKS/SOFTWARE-DRIVEN-TEST AUTOMATION/dataset & info/SDT UAR Test Cases/PayNOW Test Cases Ramashanker/PayNOW Test Cases/SchedulePayment Testcases',\n",
        "    '/content/drive/MyDrive/WORKS/SOFTWARE-DRIVEN-TEST AUTOMATION/dataset & info/SDT UAR Test Cases/PayNOW Test Cases Ramashanker/PayNOW Test Cases/Sterlingcooper Testcases',\n",
        "    '/content/drive/MyDrive/WORKS/SOFTWARE-DRIVEN-TEST AUTOMATION/dataset & info/SDT UAR Test Cases/PayNOW Test Cases Ramashanker/PayNOW Test Cases/non integrated Testcases',\n",
        "    '/content/drive/MyDrive/WORKS/SOFTWARE-DRIVEN-TEST AUTOMATION/dataset & info/SDT UAR Test Cases/PayNOW Datadriver Testcases Ramashanker',\n",
        "    '/content/drive/MyDrive/WORKS/SOFTWARE-DRIVEN-TEST AUTOMATION/dataset & info/SDT UAR Test Cases/ClientCentral_Testcases Ram/ClientCentral_Testcases/all_transactions_Testcases',\n",
        "    '/content/drive/MyDrive/WORKS/SOFTWARE-DRIVEN-TEST AUTOMATION/dataset & info/SDT UAR Test Cases/ClientCentral_Testcases Ram/ClientCentral_Testcases/autopay_Testcases',\n",
        "    '/content/drive/MyDrive/WORKS/SOFTWARE-DRIVEN-TEST AUTOMATION/dataset & info/SDT UAR Test Cases/ClientCentral_Testcases Ram/ClientCentral_Testcases/customers_Testcases',\n",
        "    '/content/drive/MyDrive/WORKS/SOFTWARE-DRIVEN-TEST AUTOMATION/dataset & info/SDT UAR Test Cases/ClientCentral_Testcases Ram/ClientCentral_Testcases/dashboard_Testcases',\n",
        "    '/content/drive/MyDrive/WORKS/SOFTWARE-DRIVEN-TEST AUTOMATION/dataset & info/SDT UAR Test Cases/ClientCentral_Testcases Ram/ClientCentral_Testcases/failed_login_attempts_Testcases',\n",
        "    '/content/drive/MyDrive/WORKS/SOFTWARE-DRIVEN-TEST AUTOMATION/dataset & info/SDT UAR Test Cases/ClientCentral_Testcases Ram/ClientCentral_Testcases/invoices_Testcases',\n",
        "    '/content/drive/MyDrive/WORKS/SOFTWARE-DRIVEN-TEST AUTOMATION/dataset & info/SDT UAR Test Cases/ClientCentral_Testcases Ram/ClientCentral_Testcases/payment_status_Testcases',\n",
        "    '/content/drive/MyDrive/WORKS/SOFTWARE-DRIVEN-TEST AUTOMATION/dataset & info/SDT UAR Test Cases/ClientCentral_Testcases Ram/ClientCentral_Testcases/scheduled_payments_Testcases',\n",
        "    '/content/drive/MyDrive/WORKS/SOFTWARE-DRIVEN-TEST AUTOMATION/dataset & info/SDT UAR Test Cases/ClientCentral_Testcases Ram/ClientCentral_Testcases/settings_Testcases',\n",
        "    '/content/drive/MyDrive/WORKS/SOFTWARE-DRIVEN-TEST AUTOMATION/dataset & info/SDT UAR Test Cases/ClientCentral_Testcases Ram/ClientCentral_Testcases/tokens_Testcases',\n",
        "    '/content/drive/MyDrive/WORKS/SOFTWARE-DRIVEN-TEST AUTOMATION/dataset & info/SDT UAR Test Cases/ClientCentral_Testcases Ram/ClientCentral_Testcases/virtual_terminal_Testcases'\n",
        "]"
      ],
      "metadata": {
        "id": "ZUhkvsTuBJvX"
      },
      "execution_count": null,
      "outputs": []
    },
    {
      "cell_type": "code",
      "source": [
        "# Collect all relevant CSV files\n",
        "keyword_driven_files = find_csv_files(roots_keyword_driven)\n",
        "data_driven_files = find_csv_files(roots_data_driven)\n"
      ],
      "metadata": {
        "id": "FibtpatAXC2g"
      },
      "execution_count": null,
      "outputs": []
    },
    {
      "cell_type": "code",
      "source": [
        "print(f\"Found {len(keyword_driven_files)} keyword-driven test cases\")\n",
        "print(f\"Found {len(data_driven_files)} data-driven test cases\")"
      ],
      "metadata": {
        "colab": {
          "base_uri": "https://localhost:8080/"
        },
        "id": "YcqBCGVbXGP2",
        "outputId": "98f05567-942a-4222-8389-5b5e9c923b23"
      },
      "execution_count": null,
      "outputs": [
        {
          "output_type": "stream",
          "name": "stdout",
          "text": [
            "Found 38 keyword-driven test cases\n",
            "Found 343 data-driven test cases\n"
          ]
        }
      ]
    },
    {
      "cell_type": "code",
      "source": [
        "# Process keyword-driven and data-driven test cases\n",
        "refined_KD_data = process_files(keyword_driven_files, process_keyword_driven_test_case)\n",
        "refined_DD_data = process_files(data_driven_files, process_data_driven_test_case)"
      ],
      "metadata": {
        "colab": {
          "base_uri": "https://localhost:8080/"
        },
        "id": "GFd_I7dtXIMG",
        "outputId": "77f3e389-366e-465c-ba56-2af7873c4526"
      },
      "execution_count": null,
      "outputs": [
        {
          "output_type": "stream",
          "name": "stdout",
          "text": [
            "Processed 38 files in 233.20 seconds\n",
            "Failed to process /content/drive/MyDrive/WORKS/SOFTWARE-DRIVEN-TEST AUTOMATION/dataset & info/SDT UAR Test Cases/PayNOW Test Cases Ramashanker/PayNOW Test Cases/Sterlingcooper Testcases/TC_50 Validate Customer Is Able To Cancel Login With Invoice Pop-Up.csv: 'utf-8' codec can't decode byte 0x91 in position 102: invalid start byte\n",
            "Processed 343 files in 2073.33 seconds\n"
          ]
        }
      ]
    },
    {
      "cell_type": "code",
      "source": [
        "# Convert to DataFrame and Save refined data to CSV and Excel\n",
        "keydriven_df = pd.DataFrame(refined_KD_data)\n",
        "ddriven_df = pd.DataFrame(refined_DD_data)"
      ],
      "metadata": {
        "id": "3lVuxMkZXLle"
      },
      "execution_count": null,
      "outputs": []
    },
    {
      "cell_type": "code",
      "source": [
        "# keydriven_df.head()"
      ],
      "metadata": {
        "id": "kZxSsIwCXYCJ"
      },
      "execution_count": null,
      "outputs": []
    },
    {
      "cell_type": "code",
      "source": [
        "output_path = '/content/drive/MyDrive/WORKS/SOFTWARE-DRIVEN-TEST AUTOMATION/dataset & info/SDT UAR Test Cases/'\n",
        "keydriven_df.to_csv(output_path + 'keyDriven_testcases.csv', index=False)\n",
        "ddriven_df.to_csv(output_path + 'Data_driven_testcases.csv', index=False)\n",
        "keydriven_df.to_excel(output_path + 'keyDriven_testcases.xlsx', index=False)\n",
        "ddriven_df.to_excel(output_path + 'Data_driven_testcases.xlsx', index=False)\n",
        "\n",
        "print(\"Processing completed. Files saved successfully.\")"
      ],
      "metadata": {
        "colab": {
          "base_uri": "https://localhost:8080/"
        },
        "id": "1xfKYSjIXRXj",
        "outputId": "1ada7b82-832f-41b1-f97f-d0187232cf28"
      },
      "execution_count": null,
      "outputs": [
        {
          "output_type": "stream",
          "name": "stdout",
          "text": [
            "Processing completed. Files saved successfully.\n"
          ]
        }
      ]
    },
    {
      "cell_type": "code",
      "source": [],
      "metadata": {
        "id": "8ARmezgjXsWd"
      },
      "execution_count": null,
      "outputs": []
    }
  ]
}